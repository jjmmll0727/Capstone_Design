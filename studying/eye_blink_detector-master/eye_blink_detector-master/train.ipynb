{
 "cells": [
  {
   "cell_type": "code",
   "execution_count": 1,
   "metadata": {},
   "outputs": [],
   "source": [
    "import datetime\n",
    "import numpy as np\n",
    "import matplotlib.pyplot as plt\n",
    "import os\n",
    "from keras.layers import Input, Activation, Conv2D, Flatten, Dense, MaxPooling2D\n",
    "from keras.models import Model, load_model\n",
    "from keras.preprocessing.image import ImageDataGenerator\n",
    "from keras.callbacks import ModelCheckpoint, ReduceLROnPlateau\n",
    "plt.style.use('dark_background')"
   ]
  },
  {
   "cell_type": "markdown",
   "metadata": {},
   "source": [
    "# Load Dataset"
   ]
  },
  {
   "cell_type": "code",
   "execution_count": 2,
   "metadata": {},
   "outputs": [
    {
     "name": "stdout",
     "output_type": "stream",
     "text": [
      "(2586, 26, 34, 1) (2586, 1)\n",
      "(288, 26, 34, 1) (288, 1)\n"
     ]
    }
   ],
   "source": [
    "x_train = np.load(\"C:/Users/KBJ/Desktop/eye_blink_detector-master/eye_blink_detector-master/dataset/x_train.npy\").astype(np.float32)\n",
    "y_train = np.load(\"C:/Users/KBJ/Desktop/eye_blink_detector-master/eye_blink_detector-master/dataset/y_train.npy\").astype(np.float32)\n",
    "x_val = np.load(\"C:/Users/KBJ/Desktop/eye_blink_detector-master/eye_blink_detector-master/dataset/x_val.npy\").astype(np.float32)\n",
    "y_val = np.load(\"C:/Users/KBJ/Desktop/eye_blink_detector-master/eye_blink_detector-master/dataset/y_val.npy\").astype(np.float32)\n",
    "\n",
    "print(x_train.shape, y_train.shape)\n",
    "print(x_val.shape, y_val.shape)"
   ]
  },
  {
   "cell_type": "markdown",
   "metadata": {},
   "source": [
    "# Preview"
   ]
  },
  {
   "cell_type": "code",
   "execution_count": 3,
   "metadata": {},
   "outputs": [
    {
     "data": {
      "text/plain": [
       "<matplotlib.image.AxesImage at 0x23379b60070>"
      ]
     },
     "execution_count": 3,
     "metadata": {},
     "output_type": "execute_result"
    },
    {
     "data": {
      "image/png": "[encoded data removed]",
      "text/plain": [
       "<Figure size 432x288 with 2 Axes>"
      ]
     },
     "metadata": {},
     "output_type": "display_data"
    }
   ],
   "source": [
    "plt.subplot(2, 1, 1)\n",
    "plt.title(str(y_train[0]))\n",
    "plt.imshow(x_train[0].reshape((26, 34)), cmap='gray')\n",
    "plt.subplot(2, 1, 2)\n",
    "plt.title(str(y_val[4]))\n",
    "plt.imshow(x_val[4].reshape((26, 34)), cmap='gray')"
   ]
  },
  {
   "cell_type": "markdown",
   "metadata": {},
   "source": [
    "# Data Augmentation"
   ]
  },
  {
   "cell_type": "code",
   "execution_count": 4,
   "metadata": {},
   "outputs": [],
   "source": [
    "train_datagen = ImageDataGenerator(\n",
    "    rescale=1./255,\n",
    "    rotation_range=10,\n",
    "    width_shift_range=0.2,\n",
    "    height_shift_range=0.2,\n",
    "    shear_range=0.2,\n",
    "    horizontal_flip=True\n",
    ")\n",
    "\n",
    "val_datagen = ImageDataGenerator(rescale=1./255)\n",
    "\n",
    "train_generator = train_datagen.flow(\n",
    "    x=x_train, y=y_train,\n",
    "    batch_size=32,\n",
    "    shuffle=True\n",
    ")\n",
    "\n",
    "val_generator = val_datagen.flow(\n",
    "    x=x_val, y=y_val,\n",
    "    batch_size=32,\n",
    "    shuffle=False\n",
    ")"
   ]
  },
  {
   "cell_type": "markdown",
   "metadata": {},
   "source": [
    "# Build Model"
   ]
  },
  {
   "cell_type": "code",
   "execution_count": 5,
   "metadata": {},
   "outputs": [
    {
     "name": "stdout",
     "output_type": "stream",
     "text": [
      "Model: \"model\"\n",
      "_________________________________________________________________\n",
      "Layer (type)                 Output Shape              Param #   \n",
      "=================================================================\n",
      "input_1 (InputLayer)         [(None, 26, 34, 1)]       0         \n",
      "_________________________________________________________________\n",
      "conv2d (Conv2D)              (None, 26, 34, 32)        320       \n",
      "_________________________________________________________________\n",
      "max_pooling2d (MaxPooling2D) (None, 13, 17, 32)        0         \n",
      "_________________________________________________________________\n",
      "conv2d_1 (Conv2D)            (None, 13, 17, 64)        18496     \n",
      "_________________________________________________________________\n",
      "max_pooling2d_1 (MaxPooling2 (None, 6, 8, 64)          0         \n",
      "_________________________________________________________________\n",
      "conv2d_2 (Conv2D)            (None, 6, 8, 128)         73856     \n",
      "_________________________________________________________________\n",
      "max_pooling2d_2 (MaxPooling2 (None, 3, 4, 128)         0         \n",
      "_________________________________________________________________\n",
      "flatten (Flatten)            (None, 1536)              0         \n",
      "_________________________________________________________________\n",
      "dense (Dense)                (None, 512)               786944    \n",
      "_________________________________________________________________\n",
      "activation (Activation)      (None, 512)               0         \n",
      "_________________________________________________________________\n",
      "dense_1 (Dense)              (None, 1)                 513       \n",
      "_________________________________________________________________\n",
      "activation_1 (Activation)    (None, 1)                 0         \n",
      "=================================================================\n",
      "Total params: 880,129\n",
      "Trainable params: 880,129\n",
      "Non-trainable params: 0\n",
      "_________________________________________________________________\n"
     ]
    }
   ],
   "source": [
    "inputs = Input(shape=(26, 34, 1))\n",
    "\n",
    "net = Conv2D(32, kernel_size=3, strides=1, padding='same', activation='relu')(inputs)\n",
    "net = MaxPooling2D(pool_size=2)(net)\n",
    "\n",
    "net = Conv2D(64, kernel_size=3, strides=1, padding='same', activation='relu')(net)\n",
    "net = MaxPooling2D(pool_size=2)(net)\n",
    "\n",
    "net = Conv2D(128, kernel_size=3, strides=1, padding='same', activation='relu')(net)\n",
    "net = MaxPooling2D(pool_size=2)(net)\n",
    "\n",
    "net = Flatten()(net)\n",
    "\n",
    "net = Dense(512)(net)\n",
    "net = Activation('relu')(net)\n",
    "net = Dense(1)(net)\n",
    "outputs = Activation('sigmoid')(net)\n",
    "\n",
    "model = Model(inputs=inputs, outputs=outputs)\n",
    "\n",
    "model.compile(optimizer='adam', loss='binary_crossentropy', metrics=['acc'])\n",
    "\n",
    "model.summary()"
   ]
  },
  {
   "cell_type": "markdown",
   "metadata": {},
   "source": [
    "# Train"
   ]
  },
  {
   "cell_type": "code",
   "execution_count": 6,
   "metadata": {
    "scrolled": true
   },
   "outputs": [
    {
     "name": "stderr",
     "output_type": "stream",
     "text": [
      "C:\\Users\\KBJ\\anaconda3\\envs\\cv\\lib\\site-packages\\tensorflow\\python\\keras\\engine\\training.py:1844: UserWarning: `Model.fit_generator` is deprecated and will be removed in a future version. Please use `Model.fit`, which supports generators.\n",
      "  warnings.warn('`Model.fit_generator` is deprecated and '\n"
     ]
    },
    {
     "name": "stdout",
     "output_type": "stream",
     "text": [
      "Epoch 1/50\n",
      "81/81 [==============================] - 4s 38ms/step - loss: 0.5826 - acc: 0.6574 - val_loss: 0.3231 - val_acc: 0.8750\n",
      "\n",
      "Epoch 00001: val_acc improved from -inf to 0.87500, saving model to models\\2021_04_20_15_50_20.h5\n",
      "Epoch 2/50\n",
      "81/81 [==============================] - 2s 24ms/step - loss: 0.2559 - acc: 0.8974 - val_loss: 0.2329 - val_acc: 0.9167\n",
      "\n",
      "Epoch 00002: val_acc improved from 0.87500 to 0.91667, saving model to models\\2021_04_20_15_50_20.h5\n",
      "Epoch 3/50\n",
      "81/81 [==============================] - 2s 23ms/step - loss: 0.1850 - acc: 0.9315 - val_loss: 0.1169 - val_acc: 0.9549\n",
      "\n",
      "Epoch 00003: val_acc improved from 0.91667 to 0.95486, saving model to models\\2021_04_20_15_50_20.h5\n",
      "Epoch 4/50\n",
      "81/81 [==============================] - 2s 26ms/step - loss: 0.1541 - acc: 0.9408 - val_loss: 0.2031 - val_acc: 0.9479\n",
      "\n",
      "Epoch 00004: val_acc did not improve from 0.95486\n",
      "Epoch 5/50\n",
      "81/81 [==============================] - 2s 23ms/step - loss: 0.1437 - acc: 0.9452 - val_loss: 0.0781 - val_acc: 0.9688\n",
      "\n",
      "Epoch 00005: val_acc improved from 0.95486 to 0.96875, saving model to models\\2021_04_20_15_50_20.h5\n",
      "Epoch 6/50\n",
      "81/81 [==============================] - 2s 25ms/step - loss: 0.0988 - acc: 0.9715 - val_loss: 0.0827 - val_acc: 0.9826\n",
      "\n",
      "Epoch 00006: val_acc improved from 0.96875 to 0.98264, saving model to models\\2021_04_20_15_50_20.h5\n",
      "Epoch 7/50\n",
      "81/81 [==============================] - 2s 27ms/step - loss: 0.1217 - acc: 0.9608 - val_loss: 0.1097 - val_acc: 0.9583\n",
      "\n",
      "Epoch 00007: val_acc did not improve from 0.98264\n",
      "Epoch 8/50\n",
      "81/81 [==============================] - 2s 24ms/step - loss: 0.0792 - acc: 0.9745 - val_loss: 0.0915 - val_acc: 0.9722\n",
      "\n",
      "Epoch 00008: val_acc did not improve from 0.98264\n",
      "Epoch 9/50\n",
      "81/81 [==============================] - 2s 23ms/step - loss: 0.0675 - acc: 0.9720 - val_loss: 0.0759 - val_acc: 0.9826\n",
      "\n",
      "Epoch 00009: val_acc did not improve from 0.98264\n",
      "Epoch 10/50\n",
      "81/81 [==============================] - 2s 24ms/step - loss: 0.0853 - acc: 0.9739 - val_loss: 0.0904 - val_acc: 0.9688\n",
      "\n",
      "Epoch 00010: val_acc did not improve from 0.98264\n",
      "Epoch 11/50\n",
      "81/81 [==============================] - 2s 23ms/step - loss: 0.0796 - acc: 0.9747 - val_loss: 0.0667 - val_acc: 0.9792\n",
      "\n",
      "Epoch 00011: val_acc did not improve from 0.98264\n",
      "Epoch 12/50\n",
      "81/81 [==============================] - 2s 23ms/step - loss: 0.0591 - acc: 0.9785 - val_loss: 0.0431 - val_acc: 0.9861\n",
      "\n",
      "Epoch 00012: val_acc improved from 0.98264 to 0.98611, saving model to models\\2021_04_20_15_50_20.h5\n",
      "Epoch 13/50\n",
      "81/81 [==============================] - 2s 22ms/step - loss: 0.0489 - acc: 0.9822 - val_loss: 0.1028 - val_acc: 0.9757\n",
      "\n",
      "Epoch 00013: val_acc did not improve from 0.98611\n",
      "Epoch 14/50\n",
      "81/81 [==============================] - 2s 26ms/step - loss: 0.0621 - acc: 0.9831 - val_loss: 0.0599 - val_acc: 0.9861\n",
      "\n",
      "Epoch 00014: val_acc did not improve from 0.98611\n",
      "Epoch 15/50\n",
      "81/81 [==============================] - 2s 23ms/step - loss: 0.0392 - acc: 0.9893 - val_loss: 0.0401 - val_acc: 0.9896\n",
      "\n",
      "Epoch 00015: val_acc improved from 0.98611 to 0.98958, saving model to models\\2021_04_20_15_50_20.h5\n",
      "Epoch 16/50\n",
      "81/81 [==============================] - 2s 23ms/step - loss: 0.0508 - acc: 0.9845 - val_loss: 0.0423 - val_acc: 0.9931\n",
      "\n",
      "Epoch 00016: val_acc improved from 0.98958 to 0.99306, saving model to models\\2021_04_20_15_50_20.h5\n",
      "Epoch 17/50\n",
      "81/81 [==============================] - 2s 25ms/step - loss: 0.0326 - acc: 0.9878 - val_loss: 0.0849 - val_acc: 0.9896\n",
      "\n",
      "Epoch 00017: val_acc did not improve from 0.99306\n",
      "Epoch 18/50\n",
      "81/81 [==============================] - 2s 22ms/step - loss: 0.0314 - acc: 0.9921 - val_loss: 0.0433 - val_acc: 0.9931\n",
      "\n",
      "Epoch 00018: val_acc did not improve from 0.99306\n",
      "Epoch 19/50\n",
      "81/81 [==============================] - 2s 22ms/step - loss: 0.0480 - acc: 0.9864 - val_loss: 0.0506 - val_acc: 0.9861\n",
      "\n",
      "Epoch 00019: val_acc did not improve from 0.99306\n",
      "Epoch 20/50\n",
      "81/81 [==============================] - 2s 24ms/step - loss: 0.0430 - acc: 0.9867 - val_loss: 0.0602 - val_acc: 0.9861\n",
      "\n",
      "Epoch 00020: val_acc did not improve from 0.99306\n",
      "Epoch 21/50\n",
      "81/81 [==============================] - 2s 23ms/step - loss: 0.0344 - acc: 0.9911 - val_loss: 0.0806 - val_acc: 0.9688\n",
      "\n",
      "Epoch 00021: val_acc did not improve from 0.99306\n",
      "Epoch 22/50\n",
      "81/81 [==============================] - 2s 22ms/step - loss: 0.0468 - acc: 0.9868 - val_loss: 0.0275 - val_acc: 0.9896\n",
      "\n",
      "Epoch 00022: val_acc did not improve from 0.99306\n",
      "Epoch 23/50\n",
      "81/81 [==============================] - 2s 23ms/step - loss: 0.0378 - acc: 0.9873 - val_loss: 0.0567 - val_acc: 0.9896\n",
      "\n",
      "Epoch 00023: val_acc did not improve from 0.99306\n",
      "Epoch 24/50\n",
      "81/81 [==============================] - 2s 25ms/step - loss: 0.0435 - acc: 0.9807 - val_loss: 0.0386 - val_acc: 0.9931\n",
      "\n",
      "Epoch 00024: val_acc did not improve from 0.99306\n",
      "Epoch 25/50\n",
      "81/81 [==============================] - 2s 23ms/step - loss: 0.0226 - acc: 0.9957 - val_loss: 0.0570 - val_acc: 0.9931\n",
      "\n",
      "Epoch 00025: val_acc did not improve from 0.99306\n",
      "Epoch 26/50\n",
      "81/81 [==============================] - 2s 23ms/step - loss: 0.0225 - acc: 0.9915 - val_loss: 0.1011 - val_acc: 0.9826\n",
      "\n",
      "Epoch 00026: val_acc did not improve from 0.99306\n",
      "\n",
      "Epoch 00026: ReduceLROnPlateau reducing learning rate to 0.00020000000949949026.\n",
      "Epoch 27/50\n",
      "81/81 [==============================] - 2s 25ms/step - loss: 0.0156 - acc: 0.9952 - val_loss: 0.0726 - val_acc: 0.9861\n",
      "\n",
      "Epoch 00027: val_acc did not improve from 0.99306\n",
      "Epoch 28/50\n",
      "81/81 [==============================] - 2s 26ms/step - loss: 0.0153 - acc: 0.9945 - val_loss: 0.0803 - val_acc: 0.9826\n",
      "\n",
      "Epoch 00028: val_acc did not improve from 0.99306\n",
      "Epoch 29/50\n",
      "81/81 [==============================] - 2s 25ms/step - loss: 0.0237 - acc: 0.9936 - val_loss: 0.0466 - val_acc: 0.9965\n",
      "\n",
      "Epoch 00029: val_acc improved from 0.99306 to 0.99653, saving model to models\\2021_04_20_15_50_20.h5\n",
      "Epoch 30/50\n",
      "81/81 [==============================] - 2s 26ms/step - loss: 0.0153 - acc: 0.9962 - val_loss: 0.0379 - val_acc: 0.9931\n",
      "\n",
      "Epoch 00030: val_acc did not improve from 0.99653\n",
      "Epoch 31/50\n",
      "81/81 [==============================] - 2s 22ms/step - loss: 0.0257 - acc: 0.9908 - val_loss: 0.0577 - val_acc: 0.9861\n",
      "\n",
      "Epoch 00031: val_acc did not improve from 0.99653\n",
      "Epoch 32/50\n",
      "81/81 [==============================] - 2s 22ms/step - loss: 0.0215 - acc: 0.9946 - val_loss: 0.0669 - val_acc: 0.9861\n",
      "\n",
      "Epoch 00032: val_acc did not improve from 0.99653\n",
      "Epoch 33/50\n",
      "81/81 [==============================] - 2s 24ms/step - loss: 0.0132 - acc: 0.9960 - val_loss: 0.0642 - val_acc: 0.9896\n",
      "\n",
      "Epoch 00033: val_acc did not improve from 0.99653\n",
      "Epoch 34/50\n",
      "81/81 [==============================] - 2s 23ms/step - loss: 0.0109 - acc: 0.9982 - val_loss: 0.0583 - val_acc: 0.9896\n",
      "\n",
      "Epoch 00034: val_acc did not improve from 0.99653\n",
      "Epoch 35/50\n",
      "81/81 [==============================] - 2s 23ms/step - loss: 0.0092 - acc: 0.9975 - val_loss: 0.0920 - val_acc: 0.9826\n",
      "\n",
      "Epoch 00035: val_acc did not improve from 0.99653\n",
      "Epoch 36/50\n",
      "81/81 [==============================] - 2s 22ms/step - loss: 0.0151 - acc: 0.9952 - val_loss: 0.0465 - val_acc: 0.9965\n",
      "\n",
      "Epoch 00036: val_acc did not improve from 0.99653\n",
      "Epoch 37/50\n",
      "81/81 [==============================] - 2s 25ms/step - loss: 0.0128 - acc: 0.9954 - val_loss: 0.0649 - val_acc: 0.9896\n",
      "\n",
      "Epoch 00037: val_acc did not improve from 0.99653\n",
      "Epoch 38/50\n",
      "81/81 [==============================] - 2s 23ms/step - loss: 0.0167 - acc: 0.9955 - val_loss: 0.0567 - val_acc: 0.9931\n",
      "\n",
      "Epoch 00038: val_acc did not improve from 0.99653\n",
      "Epoch 39/50\n",
      "81/81 [==============================] - 2s 22ms/step - loss: 0.0116 - acc: 0.9957 - val_loss: 0.0561 - val_acc: 0.9931\n",
      "\n",
      "Epoch 00039: val_acc did not improve from 0.99653\n",
      "\n",
      "Epoch 00039: ReduceLROnPlateau reducing learning rate to 4.0000001899898055e-05.\n",
      "Epoch 40/50\n",
      "81/81 [==============================] - 2s 25ms/step - loss: 0.0112 - acc: 0.9956 - val_loss: 0.0624 - val_acc: 0.9931\n",
      "\n",
      "Epoch 00040: val_acc did not improve from 0.99653\n",
      "Epoch 41/50\n",
      "81/81 [==============================] - 2s 22ms/step - loss: 0.0097 - acc: 0.9974 - val_loss: 0.0626 - val_acc: 0.9896\n",
      "\n",
      "Epoch 00041: val_acc did not improve from 0.99653\n",
      "Epoch 42/50\n"
     ]
    },
    {
     "name": "stdout",
     "output_type": "stream",
     "text": [
      "81/81 [==============================] - 2s 22ms/step - loss: 0.0113 - acc: 0.9970 - val_loss: 0.0601 - val_acc: 0.9896\n",
      "\n",
      "Epoch 00042: val_acc did not improve from 0.99653\n",
      "Epoch 43/50\n",
      "81/81 [==============================] - 2s 23ms/step - loss: 0.0135 - acc: 0.9942 - val_loss: 0.0682 - val_acc: 0.9861\n",
      "\n",
      "Epoch 00043: val_acc did not improve from 0.99653\n",
      "Epoch 44/50\n",
      "81/81 [==============================] - 2s 23ms/step - loss: 0.0137 - acc: 0.9939 - val_loss: 0.0585 - val_acc: 0.9896\n",
      "\n",
      "Epoch 00044: val_acc did not improve from 0.99653\n",
      "Epoch 45/50\n",
      "81/81 [==============================] - 2s 22ms/step - loss: 0.0117 - acc: 0.9963 - val_loss: 0.0679 - val_acc: 0.9896\n",
      "\n",
      "Epoch 00045: val_acc did not improve from 0.99653\n",
      "Epoch 46/50\n",
      "81/81 [==============================] - 2s 23ms/step - loss: 0.0098 - acc: 0.9977 - val_loss: 0.0642 - val_acc: 0.9896\n",
      "\n",
      "Epoch 00046: val_acc did not improve from 0.99653\n",
      "Epoch 47/50\n",
      "81/81 [==============================] - 2s 28ms/step - loss: 0.0090 - acc: 0.9955 - val_loss: 0.0612 - val_acc: 0.9931\n",
      "\n",
      "Epoch 00047: val_acc did not improve from 0.99653\n",
      "Epoch 48/50\n",
      "81/81 [==============================] - 2s 24ms/step - loss: 0.0090 - acc: 0.9980 - val_loss: 0.0553 - val_acc: 0.9931\n",
      "\n",
      "Epoch 00048: val_acc did not improve from 0.99653\n",
      "Epoch 49/50\n",
      "81/81 [==============================] - 2s 24ms/step - loss: 0.0113 - acc: 0.9975 - val_loss: 0.0595 - val_acc: 0.9931\n",
      "\n",
      "Epoch 00049: val_acc did not improve from 0.99653\n",
      "\n",
      "Epoch 00049: ReduceLROnPlateau reducing learning rate to 1e-05.\n",
      "Epoch 50/50\n",
      "81/81 [==============================] - 2s 26ms/step - loss: 0.0070 - acc: 0.9981 - val_loss: 0.0582 - val_acc: 0.9931\n",
      "\n",
      "Epoch 00050: val_acc did not improve from 0.99653\n"
     ]
    },
    {
     "data": {
      "text/plain": [
       "<tensorflow.python.keras.callbacks.History at 0x23379cd7310>"
      ]
     },
     "execution_count": 6,
     "metadata": {},
     "output_type": "execute_result"
    }
   ],
   "source": [
    "start_time = datetime.datetime.now().strftime('%Y_%m_%d_%H_%M_%S')\n",
    "\n",
    "model.fit_generator(\n",
    "    train_generator, epochs=50, validation_data=val_generator,\n",
    "    callbacks=[\n",
    "        ModelCheckpoint('models/%s.h5' % (start_time), monitor='val_acc', save_best_only=True, mode='max', verbose=1),\n",
    "        ReduceLROnPlateau(monitor='val_acc', factor=0.2, patience=10, verbose=1, mode='auto', min_lr=1e-05)\n",
    "    ]\n",
    ")"
   ]
  },
  {
   "cell_type": "markdown",
   "metadata": {},
   "source": [
    "# Confusion Matrix"
   ]
  },
  {
   "cell_type": "code",
   "execution_count": 7,
   "metadata": {},
   "outputs": [
    {
     "name": "stdout",
     "output_type": "stream",
     "text": [
      "test acc: 0.9965277777777778\n"
     ]
    },
    {
     "data": {
      "text/plain": [
       "<AxesSubplot:>"
      ]
     },
     "execution_count": 7,
     "metadata": {},
     "output_type": "execute_result"
    },
    {
     "data": {
      "image/png": "[encoded data removed]",
      "text/plain": [
       "<Figure size 432x288 with 2 Axes>"
      ]
     },
     "metadata": {},
     "output_type": "display_data"
    }
   ],
   "source": [
    "from sklearn.metrics import accuracy_score, confusion_matrix\n",
    "import seaborn as sns\n",
    "\n",
    "model = load_model('models/%s.h5' % (start_time))\n",
    "\n",
    "y_pred = model.predict(x_val/255.)\n",
    "y_pred_logical = (y_pred > 0.5).astype(np.int)\n",
    "\n",
    "print ('test acc: %s' % accuracy_score(y_val, y_pred_logical))\n",
    "cm = confusion_matrix(y_val, y_pred_logical)\n",
    "sns.heatmap(cm, annot=True)"
   ]
  },
  {
   "cell_type": "markdown",
   "metadata": {},
   "source": [
    "# Distribution of Prediction"
   ]
  },
  {
   "cell_type": "code",
   "execution_count": 8,
   "metadata": {},
   "outputs": [
    {
     "name": "stderr",
     "output_type": "stream",
     "text": [
      "C:\\Users\\KBJ\\anaconda3\\envs\\cv\\lib\\site-packages\\seaborn\\distributions.py:2557: FutureWarning: `distplot` is a deprecated function and will be removed in a future version. Please adapt your code to use either `displot` (a figure-level function with similar flexibility) or `histplot` (an axes-level function for histograms).\n",
      "  warnings.warn(msg, FutureWarning)\n"
     ]
    },
    {
     "data": {
      "image/png": "[encoded data removed]",
      "text/plain": [
       "<Figure size 432x288 with 1 Axes>"
      ]
     },
     "metadata": {},
     "output_type": "display_data"
    }
   ],
   "source": [
    "ax = sns.distplot(y_pred, kde=False)"
   ]
  },
  {
   "cell_type": "code",
   "execution_count": null,
   "metadata": {},
   "outputs": [],
   "source": []
  }
 ],
 "metadata": {
  "kernelspec": {
   "display_name": "Eye_detect_KAU",
   "language": "python",
   "name": "cv"
  },
  "language_info": {
   "codemirror_mode": {
    "name": "ipython",
    "version": 3
   },
   "file_extension": ".py",
   "mimetype": "text/x-python",
   "name": "python",
   "nbconvert_exporter": "python",
   "pygments_lexer": "ipython3",
   "version": "3.8.8"
  }
 },
 "nbformat": 4,
 "nbformat_minor": 2
}
